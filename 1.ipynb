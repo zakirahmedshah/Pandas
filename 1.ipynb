{
 "cells": [
  {
   "cell_type": "code",
   "execution_count": 2,
   "metadata": {},
   "outputs": [],
   "source": [
    "import pandas as pd"
   ]
  },
  {
   "cell_type": "code",
   "execution_count": 3,
   "metadata": {},
   "outputs": [
    {
     "name": "stdout",
     "output_type": "stream",
     "text": [
      "            Value\n",
      "Date             \n",
      "2023-01-01      1\n",
      "2023-01-02      3\n",
      "2023-01-03      5\n",
      "2023-01-04      7\n",
      "2023-01-05      9\n",
      "2023-01-06     11\n",
      "            Value\n",
      "Date             \n",
      "2023-01-01    1.0\n",
      "2023-01-02    3.0\n",
      "2023-01-03    5.0\n",
      "2023-01-04    7.0\n",
      "2023-01-05    9.0\n",
      "2023-01-06   11.0\n"
     ]
    }
   ],
   "source": [
    "# Creating a time series DataFrame\n",
    "dates = pd.date_range('2023-01-01', periods=6)\n",
    "df = pd.DataFrame({'Date': dates, 'Value': [1, 3, 5, 7, 9, 11]})\n",
    "df.set_index('Date', inplace=True)\n",
    "print(df)\n",
    "\n",
    "# Resampling time series data\n",
    "resampled = df.resample('D').mean()\n",
    "print(resampled)\n"
   ]
  },
  {
   "cell_type": "code",
   "execution_count": null,
   "metadata": {},
   "outputs": [],
   "source": []
  }
 ],
 "metadata": {
  "kernelspec": {
   "display_name": "base",
   "language": "python",
   "name": "python3"
  },
  "language_info": {
   "codemirror_mode": {
    "name": "ipython",
    "version": 3
   },
   "file_extension": ".py",
   "mimetype": "text/x-python",
   "name": "python",
   "nbconvert_exporter": "python",
   "pygments_lexer": "ipython3",
   "version": "3.11.5"
  }
 },
 "nbformat": 4,
 "nbformat_minor": 2
}
